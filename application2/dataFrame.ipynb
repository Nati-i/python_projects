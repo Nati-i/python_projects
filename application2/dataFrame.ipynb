{
 "cells": [
  {
   "cell_type": "code",
   "execution_count": 1,
   "metadata": {},
   "outputs": [],
   "source": [
    "import numpy as np\n",
    "import pandas as pd"
   ]
  },
  {
   "cell_type": "code",
   "execution_count": 2,
   "metadata": {},
   "outputs": [],
   "source": [
    "df = pd.read_csv('Volcanoes_USA.txt')"
   ]
  },
  {
   "cell_type": "code",
   "execution_count": 4,
   "metadata": {},
   "outputs": [
    {
     "data": {
      "text/html": [
       "<div>\n",
       "<style scoped>\n",
       "    .dataframe tbody tr th:only-of-type {\n",
       "        vertical-align: middle;\n",
       "    }\n",
       "\n",
       "    .dataframe tbody tr th {\n",
       "        vertical-align: top;\n",
       "    }\n",
       "\n",
       "    .dataframe thead th {\n",
       "        text-align: right;\n",
       "    }\n",
       "</style>\n",
       "<table border=\"1\" class=\"dataframe\">\n",
       "  <thead>\n",
       "    <tr style=\"text-align: right;\">\n",
       "      <th></th>\n",
       "      <th>VOLCANX020</th>\n",
       "      <th>NUMBER</th>\n",
       "      <th>NAME</th>\n",
       "      <th>LOCATION</th>\n",
       "      <th>STATUS</th>\n",
       "      <th>ELEV</th>\n",
       "      <th>TYPE</th>\n",
       "      <th>TIMEFRAME</th>\n",
       "      <th>LAT</th>\n",
       "      <th>LON</th>\n",
       "    </tr>\n",
       "  </thead>\n",
       "  <tbody>\n",
       "    <tr>\n",
       "      <th>0</th>\n",
       "      <td>509.0</td>\n",
       "      <td>1201-01=</td>\n",
       "      <td>Baker</td>\n",
       "      <td>US-Washington</td>\n",
       "      <td>Historical</td>\n",
       "      <td>3285.0</td>\n",
       "      <td>Stratovolcanoes</td>\n",
       "      <td>D3</td>\n",
       "      <td>48.776798</td>\n",
       "      <td>-121.810997</td>\n",
       "    </tr>\n",
       "    <tr>\n",
       "      <th>1</th>\n",
       "      <td>511.0</td>\n",
       "      <td>1201-02-</td>\n",
       "      <td>Glacier Peak</td>\n",
       "      <td>US-Washington</td>\n",
       "      <td>Tephrochronology</td>\n",
       "      <td>3213.0</td>\n",
       "      <td>Stratovolcano</td>\n",
       "      <td>D4</td>\n",
       "      <td>48.111801</td>\n",
       "      <td>-121.111000</td>\n",
       "    </tr>\n",
       "    <tr>\n",
       "      <th>2</th>\n",
       "      <td>513.0</td>\n",
       "      <td>1201-03-</td>\n",
       "      <td>Rainier</td>\n",
       "      <td>US-Washington</td>\n",
       "      <td>Dendrochronology</td>\n",
       "      <td>4392.0</td>\n",
       "      <td>Stratovolcano</td>\n",
       "      <td>D3</td>\n",
       "      <td>46.869801</td>\n",
       "      <td>-121.751000</td>\n",
       "    </tr>\n",
       "    <tr>\n",
       "      <th>3</th>\n",
       "      <td>515.0</td>\n",
       "      <td>1201-05-</td>\n",
       "      <td>St. Helens</td>\n",
       "      <td>US-Washington</td>\n",
       "      <td>Historical</td>\n",
       "      <td>2549.0</td>\n",
       "      <td>Stratovolcano</td>\n",
       "      <td>D1</td>\n",
       "      <td>46.199799</td>\n",
       "      <td>-122.181000</td>\n",
       "    </tr>\n",
       "    <tr>\n",
       "      <th>4</th>\n",
       "      <td>516.0</td>\n",
       "      <td>1201-04-</td>\n",
       "      <td>Adams</td>\n",
       "      <td>US-Washington</td>\n",
       "      <td>Tephrochronology</td>\n",
       "      <td>3742.0</td>\n",
       "      <td>Stratovolcano</td>\n",
       "      <td>D6</td>\n",
       "      <td>46.205799</td>\n",
       "      <td>-121.490997</td>\n",
       "    </tr>\n",
       "  </tbody>\n",
       "</table>\n",
       "</div>"
      ],
      "text/plain": [
       "   VOLCANX020    NUMBER          NAME       LOCATION            STATUS  \\\n",
       "0       509.0  1201-01=         Baker  US-Washington        Historical   \n",
       "1       511.0  1201-02-  Glacier Peak  US-Washington  Tephrochronology   \n",
       "2       513.0  1201-03-       Rainier  US-Washington  Dendrochronology   \n",
       "3       515.0  1201-05-    St. Helens  US-Washington        Historical   \n",
       "4       516.0  1201-04-         Adams  US-Washington  Tephrochronology   \n",
       "\n",
       "     ELEV             TYPE TIMEFRAME        LAT         LON  \n",
       "0  3285.0  Stratovolcanoes        D3  48.776798 -121.810997  \n",
       "1  3213.0    Stratovolcano        D4  48.111801 -121.111000  \n",
       "2  4392.0    Stratovolcano        D3  46.869801 -121.751000  \n",
       "3  2549.0    Stratovolcano        D1  46.199799 -122.181000  \n",
       "4  3742.0    Stratovolcano        D6  46.205799 -121.490997  "
      ]
     },
     "execution_count": 4,
     "metadata": {},
     "output_type": "execute_result"
    }
   ],
   "source": [
    "df.head()"
   ]
  },
  {
   "cell_type": "code",
   "execution_count": 8,
   "metadata": {},
   "outputs": [],
   "source": [
    "df['Coordinates'] = str(df['LAT'])+ ',' + str(df['LON'])"
   ]
  },
  {
   "cell_type": "code",
   "execution_count": 17,
   "metadata": {},
   "outputs": [
    {
     "data": {
      "text/plain": [
       "'44.691799200000005,-121.8010025'"
      ]
     },
     "execution_count": 17,
     "metadata": {},
     "output_type": "execute_result"
    }
   ],
   "source": [
    "str(df['LAT'][8])+ ',' + str(df['LON'][8])"
   ]
  },
  {
   "cell_type": "code",
   "execution_count": 16,
   "metadata": {},
   "outputs": [
    {
     "data": {
      "text/plain": [
       "'0     48.776798\\n1     48.111801\\n2     46.869801\\n3     46.199799\\n4     46.205799\\n5     45.879799\\n6     45.929798\\n7     45.373798\\n8     44.691799\\n9     44.419800\\n10    44.379799\\n11    44.331799\\n12    44.284802\\n13    44.169800\\n14    44.099800\\n15    43.978802\\n16    43.721802\\n17    43.569801\\n18    43.511902\\n19    43.240799\\n20    43.471901\\n21    43.360901\\n22    42.929901\\n23    44.429901\\n24    43.099899\\n25    43.149898\\n26    42.999901\\n27    43.419899\\n28    43.499901\\n29    43.179901\\n        ...    \\n32    42.879902\\n33    41.419899\\n34    41.177898\\n35    40.954899\\n36    40.779900\\n37    40.679901\\n38    40.629902\\n39    40.491901\\n40    38.969898\\n41    39.374901\\n42    39.650002\\n43    37.999901\\n44    38.970001\\n45    37.879902\\n46    37.691898\\n47    37.699902\\n48    37.579899\\n49    37.019901\\n50    37.580002\\n51    37.257000\\n52    37.327999\\n53    36.357899\\n54    36.029900\\n55    36.380001\\n56    34.750000\\n57    35.869999\\n58    35.369999\\n59    34.549999\\n60    34.799999\\n61    33.780102\\nName: LAT, Length: 62, dtype: float64,0    -121.810997\\n1    -121.111000\\n2    -121.751000\\n3    -122.181000\\n4    -121.490997\\n5    -122.081001\\n6    -121.820999\\n7    -121.691002\\n8    -121.801002\\n9    -121.771004\\n10   -121.931000\\n11   -121.831001\\n12   -121.841003\\n13   -121.771004\\n14   -121.771004\\n15   -121.681000\\n16   -121.221001\\n17   -121.820999\\n18   -120.861000\\n19   -122.100998\\n20   -120.751000\\n21   -120.661003\\n22   -122.121002\\n23   -110.670998\\n24   -118.751000\\n25   -117.471001\\n26   -117.801002\\n27   -113.501000\\n28   -112.450996\\n29   -114.350998\\n         ...    \\n32   -113.221001\\n33   -122.200996\\n34   -121.441002\\n35   -121.361000\\n36   -121.600998\\n37   -121.551002\\n38   -120.831001\\n39   -121.501000\\n40   -122.771004\\n41   -119.721001\\n42   -107.030998\\n43   -119.030998\\n44   -112.501000\\n45   -119.001000\\n46   -119.021004\\n47   -118.871002\\n48   -119.051002\\n49   -117.450996\\n50   -112.670998\\n51   -113.621002\\n52   -112.401001\\n53   -118.320999\\n54   -117.820999\\n55   -113.130997\\n56   -116.621002\\n57   -106.570999\\n58   -111.501000\\n59   -115.780998\\n60   -108.001000\\n61   -105.931000\\nName: LON, Length: 62, dtype: float64'"
      ]
     },
     "execution_count": 16,
     "metadata": {},
     "output_type": "execute_result"
    }
   ],
   "source": [
    "df['Coordinates'][1]"
   ]
  },
  {
   "cell_type": "code",
   "execution_count": null,
   "metadata": {},
   "outputs": [],
   "source": []
  }
 ],
 "metadata": {
  "kernelspec": {
   "display_name": "Python 3",
   "language": "python",
   "name": "python3"
  },
  "language_info": {
   "codemirror_mode": {
    "name": "ipython",
    "version": 3
   },
   "file_extension": ".py",
   "mimetype": "text/x-python",
   "name": "python",
   "nbconvert_exporter": "python",
   "pygments_lexer": "ipython3",
   "version": "3.6.4"
  }
 },
 "nbformat": 4,
 "nbformat_minor": 2
}
